{
 "cells": [
  {
   "cell_type": "code",
   "execution_count": 1,
   "metadata": {},
   "outputs": [
    {
     "name": "stdout",
     "output_type": "stream",
     "text": [
      "200\n",
      "0.5\n",
      "10\n",
      "200.5\n"
     ]
    }
   ],
   "source": [
    "a=10\n",
    "b=20\n",
    "\n",
    "print(a*b)\n",
    "print(a/b)\n",
    "print(a%b)\n",
    "print((a*b)+(a/b))"
   ]
  },
  {
   "cell_type": "code",
   "execution_count": 4,
   "metadata": {},
   "outputs": [
    {
     "name": "stdout",
     "output_type": "stream",
     "text": [
      "Enter principle amount: 15000\n",
      "Enter time(years): 6\n",
      "Enter interest rate(%): 8\n",
      "Simple interest of  15000.0  over a time period of 6.0 years with interest rate of 8.0 % is 7200.0\n"
     ]
    }
   ],
   "source": [
    "p = float(input(\"Enter principle amount: \"))\n",
    "n = float(input(\"Enter time(years): \"))\n",
    "r = float(input(\"Enter interest rate(%): \"))\n",
    "\n",
    "si= p*n*r/100\n",
    "\n",
    "print(\"Simple interest of \",p,\" over a time period of\",n,\"years with interest rate of\",r,\"% is\",si)"
   ]
  },
  {
   "cell_type": "code",
   "execution_count": null,
   "metadata": {},
   "outputs": [],
   "source": []
  }
 ],
 "metadata": {
  "kernelspec": {
   "display_name": "Python 3",
   "language": "python",
   "name": "python3"
  },
  "language_info": {
   "codemirror_mode": {
    "name": "ipython",
    "version": 3
   },
   "file_extension": ".py",
   "mimetype": "text/x-python",
   "name": "python",
   "nbconvert_exporter": "python",
   "pygments_lexer": "ipython3",
   "version": "3.8.5"
  }
 },
 "nbformat": 4,
 "nbformat_minor": 4
}
